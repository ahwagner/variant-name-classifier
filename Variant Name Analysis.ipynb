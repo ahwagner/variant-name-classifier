{
 "cells": [
  {
   "cell_type": "markdown",
   "metadata": {},
   "source": [
    "# Analysis Helpers"
   ]
  },
  {
   "cell_type": "code",
   "execution_count": 66,
   "metadata": {
    "collapsed": true
   },
   "outputs": [],
   "source": [
    "from collections import defaultdict, namedtuple, Counter\n",
    "import re\n",
    "from Bio.Alphabet import IUPAC, ThreeLetterProtein\n",
    "from csv import DictReader\n",
    "import seaborn as sns\n",
    "import pandas as pd\n",
    "import matplotlib.pyplot as plt\n",
    "import numpy as np\n",
    "\n",
    "\n",
    "# Amino acid 1-letter codes\n",
    "AA1 = '[{}]'.format(''.join(IUPAC.IUPACProtein.letters))\n",
    "\n",
    "# Amino acid 3-letter codes\n",
    "three_letter_20 = list(set(ThreeLetterProtein.letters) - {\n",
    "    'Asx',\n",
    "    'Sec',\n",
    "    'Glx',\n",
    "    'Xaa'\n",
    "})\n",
    "AA3 = '({})'.format('|'.join(three_letter_20))\n",
    "\n",
    "# Any amino acid representation\n",
    "AAA = '({}|{})'.format(AA1, AA3)\n",
    "\n",
    "# Gene symbols (from ftp://ftp.ebi.ac.uk/pub/databases/genenames/new/tsv/non_alt_loci_set.txt)\n",
    "symbols = list()\n",
    "with open('non_alt_loci_set.txt', 'r') as f:\n",
    "    reader = DictReader(f, delimiter='\\t')\n",
    "    for row in reader:\n",
    "        symbols.append(row['symbol'])\n",
    "\n",
    "GENES = '\\\\b({})\\\\b'.format('|'.join(sorted(symbols, key=len, reverse=True)))\n",
    "\n",
    "Token = namedtuple('Token', ['type', 'value', 'context', 'column'])"
   ]
  },
  {
   "cell_type": "code",
   "execution_count": 67,
   "metadata": {
    "collapsed": true
   },
   "outputs": [],
   "source": [
    "# regular expression strings\n",
    "protein_substitution = '\\\\b{}\\\\d+{}\\\\b'.format(AAA, AAA)\n",
    "protein_alternate = '\\\\b{}\\\\d+\\\\b'.format(AAA)\n",
    "protein_duplication = '\\\\b{}\\\\d+_{}\\\\d+(DUP|dup)\\\\b'.format(AAA, AAA)\n",
    "protein_frameshift = '\\\\b{}\\\\d+(FS|fs)(\\\\*\\\\d+)?\\\\b'.format(AAA)\n",
    "protein_termination = '\\\\b{}\\\\d+X\\\\b'.format(AAA)\n",
    "gene = GENES\n",
    "exon = r'\\b(EXON|Exon|exon) \\d+\\b'\n",
    "expression = r'\\b(OVER|UNDER)?EXPRESSION\\b'\n",
    "protein_delins = '\\\\b{}\\\\d+(_{}\\\\d+)?((DEL|del)|(INS|ins)|>)+{}*\\\\b'.format(AAA, AAA, AAA)\n",
    "loss_of_function_term = r'\\bLOSS[ -]OF[ -]FUNCTION\\b'\n",
    "gain_of_function_term = r'\\bGAIN[ -]OF[ -]FUNCTION\\b'\n",
    "wild_type = r'\\b(WILD TYPE)|WT\\b'\n",
    "amplification_term = r'\\b(AMP(LIFICATION)?|(COPY NUMBER )?GAIN)\\b'\n",
    "deletion_term = r'\\b(DEL(ETION)?|(COPY NUMBER )?LOSS)\\b'\n",
    "msi_h = r'\\bMicrosatellite Instability-High\\b'\n",
    "dom = r'\\b(\\w+ )?(D|d)(omain|OMAIN)\\b'\n",
    "itd = r'\\b(Internal tandem duplication)|(ITD)\\b'\n",
    "annotated = r'\\(.*\\)'\n",
    "skip = r'[ \\t\\-/]+'\n",
    "other_word = r'\\w+'\n",
    "other_character = '.'\n",
    "open_group = r'\\('\n",
    "close_group = r'\\)'\n",
    "\n",
    "keywords = {\n",
    "    'FUSION': 'FUS_KW',\n",
    "    'FUSIONS': 'FUS_KW',\n",
    "    'MUTATION': 'MUT_KW',\n",
    "    'MUTATIONS': 'MUT_KW',\n",
    "    'ABL': 'GENE',\n",
    "    'SPLICING': 'SPLICE',\n",
    "    'ALTERATION': 'MUT_KW',\n",
    "    'NULL': 'LOF',\n",
    "    'DELETERIOUS': 'LOF',\n",
    "    'INACTIVATING': 'LOF',\n",
    "    'ACTIVATING': 'GOF',\n",
    "    'ONCOGENIC': 'ONC',\n",
    "    'FRAMESHIFT': 'P_FS',\n",
    "    'TRUNCATING': 'P_FS',\n",
    "    'SPLICE': 'SPLICE',\n",
    "    'INSERTION': 'P_DELINS',\n",
    "    'DELETION': 'P_DELINS',\n",
    "    'AMPLIFICATION': 'AMP',\n",
    "    'WILDTYPE': 'WT',\n",
    "    'DUPLICATION': 'DUP'\n",
    "}\n",
    "\n",
    "def tokenize(variant):\n",
    "    token_specification = [\n",
    "        ('GENE', gene),\n",
    "        ('EXON', exon),\n",
    "        ('P_FS', protein_frameshift),\n",
    "        ('P_SUB', protein_substitution),\n",
    "        ('P_TER', protein_termination),\n",
    "        ('P_ALT', protein_alternate),\n",
    "        ('P_DUP', protein_duplication),\n",
    "        ('P_DELINS', protein_delins),\n",
    "        ('LOF', loss_of_function_term),\n",
    "        ('GOF', gain_of_function_term),\n",
    "        ('AMP', amplification_term),\n",
    "        ('DEL', deletion_term),\n",
    "        ('EXP', expression),\n",
    "        ('WT', wild_type),\n",
    "        ('MSIH', msi_h),\n",
    "        ('ITD', itd),\n",
    "        ('DOM', dom),\n",
    "        ('ANNOT', annotated),\n",
    "        ('SKIP', skip),\n",
    "        ('OPEN_GROUP', open_group),\n",
    "        ('CLOSE_GROUP', close_group),\n",
    "        ('OW', other_word),\n",
    "        ('OC', other_character)\n",
    "    ]\n",
    "    tok_regex = '|'.join('(?P<%s>%s)' % pair for pair in token_specification)\n",
    "    for mo in re.finditer(tok_regex, variant):\n",
    "        kind = mo.lastgroup\n",
    "        value = mo.group()\n",
    "        column = mo.start()\n",
    "        if kind == 'SKIP':\n",
    "            continue\n",
    "        elif kind == 'OW' and value.upper() in keywords:\n",
    "            kind = keywords[value.upper()]\n",
    "        yield Token(kind, value, variant, column)\n",
    "\n",
    "def classify_variant(variant):\n",
    "    tokens = list(tokenize(variant))\n",
    "    types = [t.type for t in tokens]\n",
    "    if len(types) > 1 and 'ANNOT' in types:\n",
    "        types = [t for t in types if t != 'ANNOT']\n",
    "    if len(types) > 1 and 'MUT_KW' in types:\n",
    "        types = [t for t in types if t != 'MUT_KW']\n",
    "    type_counts = Counter(types)\n",
    "    if {'FUS_KW', 'GENE'} >= set(types):\n",
    "        if type_counts['GENE'] < 2:\n",
    "            return (variant, 'ONE_FUS')\n",
    "        elif type_counts['GENE'] == 2:\n",
    "            return (variant, 'TWO_FUS')\n",
    "    elif 'OW' in types:\n",
    "        return (variant, 'unknown')\n",
    "    elif len(types) == 1:\n",
    "        t = types[0]\n",
    "        return (variant, t)\n",
    "    elif types == ['EXON', 'MUT_KW']:\n",
    "        return (variant, 'EXON_MUT')\n",
    "    elif len(types) == 2 and 'EXON' in types:\n",
    "        primary_type = [x for x in types if x != 'EXON'][0]\n",
    "        return (variant, primary_type)\n",
    "    elif len(types) > 1:\n",
    "        return (variant, 'complex')\n",
    "    else:\n",
    "        return (variant, 'unknown')\n",
    "\n",
    "def classify_variants(names):\n",
    "    classifications = defaultdict(list)\n",
    "    for name in names:\n",
    "        v, c = classify_variant(name)\n",
    "        classifications[c].append(v)\n",
    "    for k in sorted(classifications, key=lambda x: len(classifications[x]), reverse=True):\n",
    "        print('{}: {}'.format(k, len(classifications[k])))\n",
    "    return(classifications)"
   ]
  },
  {
   "cell_type": "markdown",
   "metadata": {},
   "source": [
    "# CIViC"
   ]
  },
  {
   "cell_type": "code",
   "execution_count": 68,
   "metadata": {
    "collapsed": true
   },
   "outputs": [],
   "source": [
    "import civicpy\n",
    "from civicpy import civic"
   ]
  },
  {
   "cell_type": "code",
   "execution_count": 69,
   "metadata": {
    "collapsed": false
   },
   "outputs": [
    {
     "data": {
      "text/plain": [
       "'0.0.3a1'"
      ]
     },
     "execution_count": 69,
     "metadata": {},
     "output_type": "execute_result"
    }
   ],
   "source": [
    "civicpy.version()"
   ]
  },
  {
   "cell_type": "code",
   "execution_count": 70,
   "metadata": {
    "collapsed": true
   },
   "outputs": [],
   "source": [
    "try:\n",
    "    civic_variants\n",
    "except NameError:\n",
    "    civic_variants = civic.get_all_variants()"
   ]
  },
  {
   "cell_type": "code",
   "execution_count": 71,
   "metadata": {
    "collapsed": true
   },
   "outputs": [],
   "source": [
    "names = [v.name for v in civic_variants]"
   ]
  },
  {
   "cell_type": "code",
   "execution_count": 72,
   "metadata": {
    "collapsed": false
   },
   "outputs": [
    {
     "name": "stdout",
     "output_type": "stream",
     "text": [
      "P_SUB: 883\n",
      "unknown: 220\n",
      "P_FS: 202\n",
      "EXP: 196\n",
      "complex: 148\n",
      "P_DELINS: 104\n",
      "MUT_KW: 75\n",
      "TWO_FUS: 73\n",
      "AMP: 47\n",
      "LOF: 40\n",
      "DEL: 38\n",
      "SPLICE: 35\n",
      "P_ALT: 24\n",
      "ONE_FUS: 20\n",
      "EXON: 17\n",
      "P_TER: 10\n",
      "WT: 6\n",
      "P_DUP: 4\n",
      "DOM: 3\n",
      "ITD: 1\n",
      "GOF: 1\n"
     ]
    }
   ],
   "source": [
    "civic_classified = classify_variants(names)"
   ]
  },
  {
   "cell_type": "markdown",
   "metadata": {},
   "source": [
    "# OncoKB"
   ]
  },
  {
   "cell_type": "code",
   "execution_count": 73,
   "metadata": {
    "collapsed": true
   },
   "outputs": [],
   "source": [
    "# From https://oncokb.org/api/v1/utils/allActionableVariants.txt\n",
    "try:\n",
    "    oncokb_variants\n",
    "except NameError:\n",
    "    oncokb_variants = list()\n",
    "    with open('allActionableVariants.txt', 'r') as f:\n",
    "        reader = DictReader(f, delimiter='\\t')\n",
    "        for row in reader:\n",
    "            oncokb_variants.append(row['Alteration'])"
   ]
  },
  {
   "cell_type": "code",
   "execution_count": 74,
   "metadata": {
    "collapsed": false
   },
   "outputs": [
    {
     "name": "stdout",
     "output_type": "stream",
     "text": [
      "P_SUB: 72\n",
      "ONC: 44\n",
      "P_ALT: 19\n",
      "ONE_FUS: 18\n",
      "AMP: 10\n",
      "P_DELINS: 6\n",
      "TWO_FUS: 5\n",
      "EXON: 5\n",
      "MSIH: 2\n",
      "SPLICE: 2\n",
      "P_FS: 2\n",
      "complex: 1\n",
      "WT: 1\n",
      "ITD: 1\n"
     ]
    }
   ],
   "source": [
    "oncokb_classified = classify_variants(oncokb_variants)"
   ]
  },
  {
   "cell_type": "markdown",
   "metadata": {},
   "source": [
    "# Visualization"
   ]
  },
  {
   "cell_type": "code",
   "execution_count": 75,
   "metadata": {
    "collapsed": true
   },
   "outputs": [],
   "source": [
    "all_keys = set(civic_classified) | set(oncokb_classified)\n",
    "civic_total = sum([len(x) for x in civic_classified.values()])\n",
    "oncokb_total = sum([len(x) for x in oncokb_classified.values()])"
   ]
  },
  {
   "cell_type": "code",
   "execution_count": 76,
   "metadata": {
    "collapsed": true
   },
   "outputs": [],
   "source": [
    "proportions = dict()\n",
    "for key in all_keys:\n",
    "    civic_p = len(civic_classified.get(key, [])) / civic_total\n",
    "    oncokb_p = len(oncokb_classified.get(key, [])) / oncokb_total\n",
    "    proportions[key] = [civic_p, oncokb_p]"
   ]
  },
  {
   "cell_type": "code",
   "execution_count": 77,
   "metadata": {
    "collapsed": true
   },
   "outputs": [],
   "source": [
    "sorted_keys = sorted(proportions, key=lambda x: max(proportions[x]), reverse=True)\n",
    "sorted_keys = [x for x in sorted_keys if x != 'unknown']\n",
    "sorted_keys.append('unknown')"
   ]
  },
  {
   "cell_type": "code",
   "execution_count": 78,
   "metadata": {
    "collapsed": true
   },
   "outputs": [],
   "source": [
    "civic_p_list = [proportions[k][0] for k in sorted_keys]\n",
    "oncokb_p_list = [proportions[k][1] for k in sorted_keys]"
   ]
  },
  {
   "cell_type": "code",
   "execution_count": 79,
   "metadata": {
    "collapsed": false
   },
   "outputs": [
    {
     "data": {
      "image/png": "[encoded data removed]",
      "text/plain": [
       "<Figure size 576x360 with 1 Axes>"
      ]
     },
     "metadata": {},
     "output_type": "display_data"
    }
   ],
   "source": [
    "ind = np.arange(len(sorted_keys))\n",
    "width = 0.35\n",
    "\n",
    "fig, ax = plt.subplots()\n",
    "fig.set_size_inches(8, 5)\n",
    "rects1 = ax.bar(ind - width/2, civic_p_list, width, label='CIViC', color=(120/255,40/255,210/255))\n",
    "rects2 = ax.bar(ind + width/2, oncokb_p_list, width, label='OncoKB', color=(35/255, 119/255, 202/255))\n",
    "\n",
    "ax.set_ylabel('Proportion')\n",
    "ax.set_title('Proportion by Resource')\n",
    "ax.set_xticks(ind)\n",
    "ax.set_xticklabels(sorted_keys, rotation='vertical')\n",
    "ax.legend()\n",
    "\n",
    "plt.show()\n",
    "fig.savefig('prop_by_resource.png', dpi=300, bbox_inches = 'tight')"
   ]
  },
  {
   "cell_type": "code",
   "execution_count": 80,
   "metadata": {
    "collapsed": false
   },
   "outputs": [
    {
     "data": {
      "text/plain": [
       "268"
      ]
     },
     "execution_count": 80,
     "metadata": {},
     "output_type": "execute_result"
    }
   ],
   "source": [
    "sum('(' in term for term in civic_classified['P_SUB'])"
   ]
  },
  {
   "cell_type": "code",
   "execution_count": 81,
   "metadata": {
    "collapsed": false
   },
   "outputs": [
    {
     "data": {
      "text/plain": [
       "883"
      ]
     },
     "execution_count": 81,
     "metadata": {},
     "output_type": "execute_result"
    }
   ],
   "source": [
    "len(civic_classified['P_SUB'])"
   ]
  },
  {
   "cell_type": "code",
   "execution_count": 82,
   "metadata": {
    "collapsed": false
   },
   "outputs": [
    {
     "data": {
      "text/plain": [
       "0.3035107587768969"
      ]
     },
     "execution_count": 82,
     "metadata": {},
     "output_type": "execute_result"
    }
   ],
   "source": [
    "268 /883"
   ]
  },
  {
   "cell_type": "code",
   "execution_count": 83,
   "metadata": {
    "collapsed": true
   },
   "outputs": [],
   "source": [
    "civic_sub_variants = [x for x in civic_variants if x.name in civic_classified['P_SUB']]"
   ]
  },
  {
   "cell_type": "code",
   "execution_count": 84,
   "metadata": {
    "collapsed": true
   },
   "outputs": [],
   "source": [
    "genes = Counter([x.gene for x in civic_sub_variants if '(' in x.name])"
   ]
  },
  {
   "cell_type": "code",
   "execution_count": 85,
   "metadata": {
    "collapsed": false
   },
   "outputs": [
    {
     "data": {
      "text/plain": [
       "[<CIViC variant 2346>]"
      ]
     },
     "execution_count": 85,
     "metadata": {},
     "output_type": "execute_result"
    }
   ],
   "source": [
    "[x for x in civic.get_gene_by_id(3532).variants if '(' in x.name]"
   ]
  },
  {
   "cell_type": "code",
   "execution_count": 86,
   "metadata": {
    "collapsed": true
   },
   "outputs": [],
   "source": [
    "v = civic.get_variant_by_id(2346)"
   ]
  },
  {
   "cell_type": "code",
   "execution_count": 87,
   "metadata": {
    "collapsed": false
   },
   "outputs": [
    {
     "data": {
      "text/plain": [
       "'https://civicdb.org/links/variant/2346'"
      ]
     },
     "execution_count": 87,
     "metadata": {},
     "output_type": "execute_result"
    }
   ],
   "source": [
    "v.site_link"
   ]
  },
  {
   "cell_type": "code",
   "execution_count": null,
   "metadata": {
    "collapsed": true
   },
   "outputs": [],
   "source": []
  }
 ],
 "metadata": {
  "anaconda-cloud": {},
  "kernelspec": {
   "display_name": "Python [py37]",
   "language": "python",
   "name": "Python [py37]"
  },
  "language_info": {
   "codemirror_mode": {
    "name": "ipython",
    "version": 3
   },
   "file_extension": ".py",
   "mimetype": "text/x-python",
   "name": "python",
   "nbconvert_exporter": "python",
   "pygments_lexer": "ipython3",
   "version": "3.7.3"
  }
 },
 "nbformat": 4,
 "nbformat_minor": 2
}
